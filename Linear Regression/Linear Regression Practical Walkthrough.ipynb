{
 "cells": [
  {
   "cell_type": "code",
   "execution_count": 54,
   "metadata": {},
   "outputs": [],
   "source": [
    "import numpy as np"
   ]
  },
  {
   "cell_type": "markdown",
   "metadata": {},
   "source": [
    "This is a practical example following my research on linear regression found at https://jonnys-world.com/data-science/linear-regression"
   ]
  },
  {
   "cell_type": "markdown",
   "metadata": {},
   "source": [
    "# Linear Regression"
   ]
  },
  {
   "cell_type": "markdown",
   "metadata": {},
   "source": [
    "Suppose we have the following contrived data where each row is the measure of the weight, count and price of a different pack of Chocolate from around the UK"
   ]
  },
  {
   "cell_type": "markdown",
   "metadata": {},
   "source": [
    "<table>\n",
    "  <tr>\n",
    "    <th>Weight(kg)</th>\n",
    "    <th>Sugar(g)</th>\n",
    "    <th>Price (pence)</th>\n",
    "  </tr>\n",
    "  <tr>\n",
    "    <td>100</td>\n",
    "    <td>2</td>\n",
    "    <td>5</td>\n",
    "  </tr>\n",
    "  <tr>\n",
    "    <td>50</td>\n",
    "    <td>42</td>\n",
    "    <td>25</td>\n",
    "  </tr>\n",
    "    <tr>\n",
    "    <td>45</td>\n",
    "    <td>31</td>\n",
    "    <td>22</td>\n",
    "  </tr>\n",
    "  <tr>\n",
    "    <td>60</td>\n",
    "    <td>35</td>\n",
    "    <td>18</td>\n",
    "  </tr>\n",
    "</table>"
   ]
  },
  {
   "cell_type": "markdown",
   "metadata": {},
   "source": [
    "Let's say we wanted to predict how much a pack of chocolate would be based on their height and sugar content. How could we do it?"
   ]
  },
  {
   "cell_type": "markdown",
   "metadata": {},
   "source": [
    "Let's assume there is a linear relationship between the response and predictors. Now we can assume a linear relationship between predictors (weight and sugar) and the response (price of fredos). We can represent this relationship using the following equation $ \\hat Y = X^T \\beta $"
   ]
  },
  {
   "cell_type": "code",
   "execution_count": 55,
   "metadata": {},
   "outputs": [],
   "source": [
    "y = np.matrix([5,25,22,18]).transpose()"
   ]
  },
  {
   "cell_type": "code",
   "execution_count": 56,
   "metadata": {},
   "outputs": [],
   "source": [
    "x = np.matrix([\n",
    "    [1, 100, 2],\n",
    "    [1, 50, 42],\n",
    "    [1, 45, 31],\n",
    "    [1, 60, 35]\n",
    "])"
   ]
  },
  {
   "cell_type": "markdown",
   "metadata": {},
   "source": [
    "(If you want to know where the 1's come from read my page)"
   ]
  },
  {
   "cell_type": "markdown",
   "metadata": {},
   "source": [
    "## Calculating Beta"
   ]
  },
  {
   "cell_type": "markdown",
   "metadata": {},
   "source": [
    "In order to make a prediction for any X we need to figure out what $ \\beta $ is. We can figure that out using the normal equation $ \\beta = (X^TX)^{-1}X^Ty $"
   ]
  },
  {
   "cell_type": "code",
   "execution_count": 57,
   "metadata": {},
   "outputs": [],
   "source": [
    "beta = np.linalg.inv(x.transpose() * x) * x.transpose() * y"
   ]
  },
  {
   "cell_type": "markdown",
   "metadata": {},
   "source": [
    "## Making a Prediction"
   ]
  },
  {
   "cell_type": "markdown",
   "metadata": {},
   "source": [
    "Now let's say we wanted to predict the price of a bar of fredo with weight 120kg and sugar content 50g. We would plug it into the equation like so"
   ]
  },
  {
   "cell_type": "code",
   "execution_count": 58,
   "metadata": {},
   "outputs": [],
   "source": [
    "new_value = np.matrix([[1, 120,50]])"
   ]
  },
  {
   "cell_type": "code",
   "execution_count": 59,
   "metadata": {},
   "outputs": [
    {
     "data": {
      "text/plain": [
       "matrix([[10.53421014]])"
      ]
     },
     "execution_count": 59,
     "metadata": {},
     "output_type": "execute_result"
    }
   ],
   "source": [
    "prediction =  new_value * beta\n",
    "prediction"
   ]
  },
  {
   "cell_type": "markdown",
   "metadata": {},
   "source": [
    "Hence our predict the chocolate bar will be 10 pence"
   ]
  },
  {
   "cell_type": "markdown",
   "metadata": {},
   "source": [
    "## How do we know if any of our predictors are related to Y?"
   ]
  },
  {
   "cell_type": "markdown",
   "metadata": {},
   "source": [
    "In the real world we normally split our data into a test set and a training set. We use the test set to train the model (as we did above). We use the test set to check how accurate our model is. <br> Let's assume that the i hid some data from you! The following table is the complete set of data. The last two rows are the bits of information which was witheld."
   ]
  },
  {
   "cell_type": "markdown",
   "metadata": {},
   "source": [
    "<table>\n",
    "  <tr>\n",
    "    <th>Weight(kg)</th>\n",
    "    <th>Sugar(g)</th>\n",
    "    <th>Price (pence)</th>\n",
    "  </tr>\n",
    "  <tr>\n",
    "    <td>100</td>\n",
    "    <td>2</td>\n",
    "    <td>5</td>\n",
    "  </tr>\n",
    "  <tr>\n",
    "    <td>50</td>\n",
    "    <td>42</td>\n",
    "    <td>25</td>\n",
    "  </tr>\n",
    "    <tr>\n",
    "    <td>45</td>\n",
    "    <td>31</td>\n",
    "    <td>22</td>\n",
    "  </tr>\n",
    "  <tr>\n",
    "    <td>60</td>\n",
    "    <td>35</td>\n",
    "    <td>18</td>\n",
    "  </tr>\n",
    "   <tr>\n",
    "    <td>20</td>\n",
    "    <td>1</td>\n",
    "    <td>1</td>\n",
    "  </tr>\n",
    "  <tr>\n",
    "    <td>30</td>\n",
    "    <td>35</td>\n",
    "    <td>20</td>\n",
    "  </tr>\n",
    "</table>"
   ]
  },
  {
   "cell_type": "code",
   "execution_count": 60,
   "metadata": {},
   "outputs": [],
   "source": [
    "x_test = np.matrix([\n",
    "    [20, 1, 1],\n",
    "    [30, 35, 20]\n",
    "])"
   ]
  },
  {
   "cell_type": "markdown",
   "metadata": {},
   "source": [
    "We can use a formula called the RSS to tell us the amount of variance which is not explained by the regression"
   ]
  },
  {
   "cell_type": "code",
   "execution_count": 61,
   "metadata": {},
   "outputs": [
    {
     "data": {
      "text/plain": [
       "matrix([[0.12753845]])"
      ]
     },
     "execution_count": 61,
     "metadata": {},
     "output_type": "execute_result"
    }
   ],
   "source": [
    "rss = np.square(5 - [1, 100, 2] * beta ) \n",
    "+ np.square(25 - [1, 50, 42] * beta )\n",
    "+ np.square(22 - [1, 45, 31] * beta ) \n",
    "+ np.square(18 - [1, 60, 35] * beta )\n",
    "+ np.square(1 - [1, 20, 1] * beta ) \n",
    "+ np.square(20 - [1, 30, 35] * beta)\n",
    "rss"
   ]
  },
  {
   "cell_type": "markdown",
   "metadata": {},
   "source": [
    "We can use a formula called TSS to tell us the total amount of variance in the data set before regression"
   ]
  },
  {
   "cell_type": "code",
   "execution_count": 62,
   "metadata": {},
   "outputs": [
    {
     "data": {
      "text/plain": [
       "156.25"
      ]
     },
     "execution_count": 62,
     "metadata": {},
     "output_type": "execute_result"
    }
   ],
   "source": [
    "tss = np.square(5 - y.mean()) \n",
    "+ np.square(25 - y.mean()) \n",
    "+ np.square(22 - y.mean()) \n",
    "+ np.square(18 - y.mean())\n",
    "+ np.square(2 - y.mean()) \n",
    "+ np.square(20 - y.mean())\n",
    "tss"
   ]
  },
  {
   "cell_type": "markdown",
   "metadata": {},
   "source": [
    "We can therefore calculate the variance explained by the regression. (TSS - RSS)"
   ]
  },
  {
   "cell_type": "code",
   "execution_count": 63,
   "metadata": {},
   "outputs": [
    {
     "data": {
      "text/plain": [
       "matrix([[156.12246155]])"
      ]
     },
     "execution_count": 63,
     "metadata": {},
     "output_type": "execute_result"
    }
   ],
   "source": [
    "tss - rss"
   ]
  },
  {
   "cell_type": "markdown",
   "metadata": {},
   "source": [
    "Yey, a lot of the variance is explained by the regression!"
   ]
  },
  {
   "cell_type": "markdown",
   "metadata": {},
   "source": [
    "To check if all of the regression coefficients are zero we test the null hypothesis <br>\n",
    "$ H_0 : \\beta_1 = \\beta_2 = 0 $ <br>\n",
    "versus the null hypothesis <br>\n",
    "$ H_1 : $ at least one $ \\beta_1 $ or $ \\beta_2 $ is none zero <br>\n",
    "we use the F statistic to test this hypothesis"
   ]
  },
  {
   "cell_type": "code",
   "execution_count": 64,
   "metadata": {},
   "outputs": [],
   "source": [
    "p = x.shape[1]-1\n",
    "N = x.shape[0]"
   ]
  },
  {
   "cell_type": "code",
   "execution_count": 65,
   "metadata": {},
   "outputs": [
    {
     "data": {
      "text/plain": [
       "matrix([[612.06034631]])"
      ]
     },
     "execution_count": 65,
     "metadata": {},
     "output_type": "execute_result"
    }
   ],
   "source": [
    "F = ((tss - rss) / p ) / ( rss / ( N - p - 1))\n",
    "F"
   ]
  },
  {
   "cell_type": "markdown",
   "metadata": {},
   "source": [
    "As our F statistic is significantly bigger than 1 we can reject our null hypothesis"
   ]
  },
  {
   "cell_type": "markdown",
   "metadata": {},
   "source": [
    "Now we know at least one of our predictors has a relationship to our response!"
   ]
  },
  {
   "cell_type": "markdown",
   "metadata": {},
   "source": [
    "## What if we want to test if a particular subset of our predictors relates to our response?"
   ]
  },
  {
   "cell_type": "markdown",
   "metadata": {},
   "source": [
    "We fit another model which uses these predictors. Let's say we wanted to check if weight is related"
   ]
  },
  {
   "cell_type": "code",
   "execution_count": 70,
   "metadata": {},
   "outputs": [
    {
     "data": {
      "text/plain": [
       "matrix([[0.29080037]])"
      ]
     },
     "execution_count": 70,
     "metadata": {},
     "output_type": "execute_result"
    }
   ],
   "source": [
    "y_weight = np.matrix([5,25,22,18]).transpose()\n",
    "x_weight = np.matrix([\n",
    "    [1, 100],\n",
    "    [1, 50],\n",
    "    [1, 45],\n",
    "    [1, 6]\n",
    "])\n",
    "beta_weight = np.linalg.inv(x_weight.transpose() * x_weight) * x_weight.transpose() * y_weight\n",
    "rss_weight = np.square(5 - [1, 100] * beta_weight ) \n",
    "+ np.square(25 - [1, 50] * beta_weight )\n",
    "+ np.square(22 - [1, 45] * beta_weight ) \n",
    "+ np.square(18 - [1, 60] * beta_weight )\n",
    "+ np.square(1 - [1, 20] * beta_weight ) \n",
    "+ np.square(20 - [1, 30] * beta_weight)"
   ]
  },
  {
   "cell_type": "markdown",
   "metadata": {},
   "source": [
    "We then compute another F statistic between our two models"
   ]
  },
  {
   "cell_type": "code",
   "execution_count": 71,
   "metadata": {},
   "outputs": [],
   "source": [
    "q = x_weight.shape[1] - 1"
   ]
  },
  {
   "cell_type": "code",
   "execution_count": 72,
   "metadata": {},
   "outputs": [
    {
     "data": {
      "text/plain": [
       "matrix([[197.62937514]])"
      ]
     },
     "execution_count": 72,
     "metadata": {},
     "output_type": "execute_result"
    }
   ],
   "source": [
    "F_weight =  ((rss_weight - rss ) / q) / ( rss / (N - p - 1))\n",
    "F_weight"
   ]
  },
  {
   "cell_type": "markdown",
   "metadata": {},
   "source": [
    "We can see that our subset of predictors (weight) is related to the price of the chocolate bar as the F statistic is significantly higher than 1."
   ]
  },
  {
   "cell_type": "markdown",
   "metadata": {},
   "source": [
    "## How accurate is our model?"
   ]
  },
  {
   "cell_type": "markdown",
   "metadata": {},
   "source": [
    "We can measure this by looking at the $ R^2 $ statistic. An $ R^2 $ close to 1 tells us a large proportion of the variability is explained by the regression. A number closer to 0 indicates that the regression didn't explain much of the variability."
   ]
  },
  {
   "cell_type": "code",
   "execution_count": 74,
   "metadata": {},
   "outputs": [
    {
     "data": {
      "text/plain": [
       "matrix([[0.99918375]])"
      ]
     },
     "execution_count": 74,
     "metadata": {},
     "output_type": "execute_result"
    }
   ],
   "source": [
    "1 - rss/tss"
   ]
  }
 ],
 "metadata": {
  "kernelspec": {
   "display_name": "Python 3",
   "language": "python",
   "name": "python3"
  },
  "language_info": {
   "codemirror_mode": {
    "name": "ipython",
    "version": 3
   },
   "file_extension": ".py",
   "mimetype": "text/x-python",
   "name": "python",
   "nbconvert_exporter": "python",
   "pygments_lexer": "ipython3",
   "version": "3.8.2"
  }
 },
 "nbformat": 4,
 "nbformat_minor": 4
}
